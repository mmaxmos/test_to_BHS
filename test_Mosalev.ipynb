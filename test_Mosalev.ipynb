{
 "cells": [
  {
   "cell_type": "markdown",
   "id": "ae01f6c7",
   "metadata": {},
   "source": [
    "## Тестовое задание Мосалева Максима"
   ]
  },
  {
   "cell_type": "markdown",
   "id": "b4264498",
   "metadata": {},
   "source": [
    "### Составление датасета"
   ]
  },
  {
   "cell_type": "markdown",
   "id": "1b41a84d",
   "metadata": {},
   "source": [
    "Рассмотрим готовые датасеты на сайте kaggle. Были найдены некоторые готовые датасеты: (загружены на github) https://github.com/mmaxmos/test_to_BHS\n",
    "\n",
    "Также собирать данные можно собиирать: \n",
    "1) с оффициальных сайтов игровых платформ, таких как Steam, Epic Games Store, PlayStation Store, Xbox Store, Nintendo eShop и другие. Они предоставляют доступ к информации о играх, включая их название, описание, рейтинги пользователей, продажи и т.д.  \n",
    "\n",
    "2) с различных игровых сайтов: Stopgame, Metacritic, IGN, GameSpot, Giant Bomb, где можно найти отзывы игроков, новости и рейтинги.\n",
    "\n",
    "Для последующей работы я выбрал датасет 'appstore-game-rating-descr.csv',где есть описание, отзывы игр из appstore. Напишем нейронную сеть для предсказания оценки пользователя по 5-балльной шкале по описанию и жанру игры."
   ]
  },
  {
   "cell_type": "markdown",
   "id": "1fe49bba",
   "metadata": {},
   "source": [
    "Проверим наличие пропусков в данных, а также предобработаем описание игр, удалив лишние символы и спецсимволы:"
   ]
  },
  {
   "cell_type": "code",
   "execution_count": 38,
   "id": "d3119f30",
   "metadata": {},
   "outputs": [
    {
     "name": "stdout",
     "output_type": "stream",
     "text": [
      "100% [..........................................................................] 5362837 / 5362837"
     ]
    },
    {
     "data": {
      "text/plain": [
       "'appstore-game-rating-descr.csv'"
      ]
     },
     "execution_count": 38,
     "metadata": {},
     "output_type": "execute_result"
    }
   ],
   "source": [
    "#ячейка для скачивания датасета\n",
    "import wget \n",
    "wget.download('https://raw.githubusercontent.com/mmaxmos/test_to_BHS/main/appstore-game-rating-descr.csv')"
   ]
  },
  {
   "cell_type": "code",
   "execution_count": 39,
   "id": "84667e28",
   "metadata": {},
   "outputs": [
    {
     "name": "stdout",
     "output_type": "stream",
     "text": [
      "(3323, 7)\n"
     ]
    }
   ],
   "source": [
    "import numpy as np\n",
    "import pandas as pd\n",
    "data=pd.read_csv('appstore-game-rating-descr.csv', sep=';')\n",
    "print(data.shape)\n",
    "data = data.iloc[:1000, :] "
   ]
  },
  {
   "cell_type": "code",
   "execution_count": 2,
   "id": "7901d02b",
   "metadata": {},
   "outputs": [
    {
     "data": {
      "text/plain": [
       "Name                   0\n",
       "Average User Rating    0\n",
       "Price                  0\n",
       "Description            0\n",
       "Age Rating             0\n",
       "Size                   0\n",
       "Genres                 0\n",
       "dtype: int64"
      ]
     },
     "execution_count": 2,
     "metadata": {},
     "output_type": "execute_result"
    }
   ],
   "source": [
    "data.isna().sum()"
   ]
  },
  {
   "cell_type": "markdown",
   "id": "e293c502",
   "metadata": {},
   "source": [
    "Пропусков в данных нет"
   ]
  },
  {
   "cell_type": "code",
   "execution_count": 3,
   "id": "244b0ff6",
   "metadata": {},
   "outputs": [
    {
     "data": {
      "text/html": [
       "<div>\n",
       "<style scoped>\n",
       "    .dataframe tbody tr th:only-of-type {\n",
       "        vertical-align: middle;\n",
       "    }\n",
       "\n",
       "    .dataframe tbody tr th {\n",
       "        vertical-align: top;\n",
       "    }\n",
       "\n",
       "    .dataframe thead th {\n",
       "        text-align: right;\n",
       "    }\n",
       "</style>\n",
       "<table border=\"1\" class=\"dataframe\">\n",
       "  <thead>\n",
       "    <tr style=\"text-align: right;\">\n",
       "      <th></th>\n",
       "      <th>Name</th>\n",
       "      <th>Average User Rating</th>\n",
       "      <th>Price</th>\n",
       "      <th>Description</th>\n",
       "      <th>Age Rating</th>\n",
       "      <th>Size</th>\n",
       "      <th>Genres</th>\n",
       "    </tr>\n",
       "  </thead>\n",
       "  <tbody>\n",
       "    <tr>\n",
       "      <th>0</th>\n",
       "      <td>! Chess !</td>\n",
       "      <td>4.5</td>\n",
       "      <td>0.00</td>\n",
       "      <td>Chess King is the best Chess gamenTouch the sc...</td>\n",
       "      <td>4</td>\n",
       "      <td>50229248</td>\n",
       "      <td>Entertainment, Strategy, Board</td>\n",
       "    </tr>\n",
       "    <tr>\n",
       "      <th>1</th>\n",
       "      <td>\"Abi: A Robot's Tale\"</td>\n",
       "      <td>4.0</td>\n",
       "      <td>0.99</td>\n",
       "      <td>PocketGamer Big Indie Pitch Asian Division Wi...</td>\n",
       "      <td>4</td>\n",
       "      <td>355188736</td>\n",
       "      <td>Strategy, Puzzle</td>\n",
       "    </tr>\n",
       "    <tr>\n",
       "      <th>2</th>\n",
       "      <td>\"Ada's Farm\"</td>\n",
       "      <td>3.5</td>\n",
       "      <td>0.00</td>\n",
       "      <td>ALL ADAs GAMES are NOW FREE for a LIMITED TIME...</td>\n",
       "      <td>4</td>\n",
       "      <td>58807619</td>\n",
       "      <td>Strategy, Entertainment, Simulation</td>\n",
       "    </tr>\n",
       "    <tr>\n",
       "      <th>3</th>\n",
       "      <td>\"Ada's Fashion Show\"</td>\n",
       "      <td>3.5</td>\n",
       "      <td>0.00</td>\n",
       "      <td>ALL ADAs GAMES are NOW FREE for a LIMITED TIME...</td>\n",
       "      <td>4</td>\n",
       "      <td>20720901</td>\n",
       "      <td>Entertainment, Simulation, Strategy</td>\n",
       "    </tr>\n",
       "    <tr>\n",
       "      <th>4</th>\n",
       "      <td>\"Ada's Fitness Center\"</td>\n",
       "      <td>3.5</td>\n",
       "      <td>0.00</td>\n",
       "      <td>ALL ADAs GAMES are NOW FREE for a LIMITED TIME...</td>\n",
       "      <td>4</td>\n",
       "      <td>14889932</td>\n",
       "      <td>Entertainment, Simulation, Strategy</td>\n",
       "    </tr>\n",
       "    <tr>\n",
       "      <th>...</th>\n",
       "      <td>...</td>\n",
       "      <td>...</td>\n",
       "      <td>...</td>\n",
       "      <td>...</td>\n",
       "      <td>...</td>\n",
       "      <td>...</td>\n",
       "      <td>...</td>\n",
       "    </tr>\n",
       "    <tr>\n",
       "      <th>995</th>\n",
       "      <td>Decked Builder HD</td>\n",
       "      <td>4.5</td>\n",
       "      <td>5.99</td>\n",
       "      <td>Decked Builder iPad is the iPad version of the...</td>\n",
       "      <td>9</td>\n",
       "      <td>40597504</td>\n",
       "      <td>Strategy, Entertainment, Card</td>\n",
       "    </tr>\n",
       "    <tr>\n",
       "      <th>996</th>\n",
       "      <td>Decked Builder Lite</td>\n",
       "      <td>3.5</td>\n",
       "      <td>0.00</td>\n",
       "      <td>Decked Builder is the premium deck building ap...</td>\n",
       "      <td>9</td>\n",
       "      <td>50365440</td>\n",
       "      <td>Card, Strategy, Entertainment</td>\n",
       "    </tr>\n",
       "    <tr>\n",
       "      <th>997</th>\n",
       "      <td>Decks Royale for Clash Royale</td>\n",
       "      <td>4.5</td>\n",
       "      <td>0.00</td>\n",
       "      <td>Bored of playing the same deck over and over? ...</td>\n",
       "      <td>4</td>\n",
       "      <td>74777600</td>\n",
       "      <td>Utilities, Action, Strategy</td>\n",
       "    </tr>\n",
       "    <tr>\n",
       "      <th>998</th>\n",
       "      <td>Decromancer: The Battle Card RPG</td>\n",
       "      <td>4.0</td>\n",
       "      <td>0.00</td>\n",
       "      <td>AppsZoom // ucA fresh breeze of air in a foul ...</td>\n",
       "      <td>12</td>\n",
       "      <td>392741888</td>\n",
       "      <td>Entertainment, Role Playing, Strategy</td>\n",
       "    </tr>\n",
       "    <tr>\n",
       "      <th>999</th>\n",
       "      <td>Deep Space Fleet: Galaxy War</td>\n",
       "      <td>4.0</td>\n",
       "      <td>0.00</td>\n",
       "      <td>DSF Galaxy War is a free to play MMORTS game w...</td>\n",
       "      <td>9</td>\n",
       "      <td>54370304</td>\n",
       "      <td>Strategy, Simulation</td>\n",
       "    </tr>\n",
       "  </tbody>\n",
       "</table>\n",
       "<p>1000 rows × 7 columns</p>\n",
       "</div>"
      ],
      "text/plain": [
       "                                 Name  Average User Rating  Price  \\\n",
       "0                           ! Chess !                  4.5   0.00   \n",
       "1               \"Abi: A Robot's Tale\"                  4.0   0.99   \n",
       "2                        \"Ada's Farm\"                  3.5   0.00   \n",
       "3                \"Ada's Fashion Show\"                  3.5   0.00   \n",
       "4              \"Ada's Fitness Center\"                  3.5   0.00   \n",
       "..                                ...                  ...    ...   \n",
       "995                 Decked Builder HD                  4.5   5.99   \n",
       "996               Decked Builder Lite                  3.5   0.00   \n",
       "997     Decks Royale for Clash Royale                  4.5   0.00   \n",
       "998  Decromancer: The Battle Card RPG                  4.0   0.00   \n",
       "999      Deep Space Fleet: Galaxy War                  4.0   0.00   \n",
       "\n",
       "                                           Description  Age Rating       Size  \\\n",
       "0    Chess King is the best Chess gamenTouch the sc...           4   50229248   \n",
       "1     PocketGamer Big Indie Pitch Asian Division Wi...           4  355188736   \n",
       "2    ALL ADAs GAMES are NOW FREE for a LIMITED TIME...           4   58807619   \n",
       "3    ALL ADAs GAMES are NOW FREE for a LIMITED TIME...           4   20720901   \n",
       "4    ALL ADAs GAMES are NOW FREE for a LIMITED TIME...           4   14889932   \n",
       "..                                                 ...         ...        ...   \n",
       "995  Decked Builder iPad is the iPad version of the...           9   40597504   \n",
       "996  Decked Builder is the premium deck building ap...           9   50365440   \n",
       "997  Bored of playing the same deck over and over? ...           4   74777600   \n",
       "998  AppsZoom // ucA fresh breeze of air in a foul ...          12  392741888   \n",
       "999  DSF Galaxy War is a free to play MMORTS game w...           9   54370304   \n",
       "\n",
       "                                    Genres  \n",
       "0           Entertainment, Strategy, Board  \n",
       "1                         Strategy, Puzzle  \n",
       "2      Strategy, Entertainment, Simulation  \n",
       "3      Entertainment, Simulation, Strategy  \n",
       "4      Entertainment, Simulation, Strategy  \n",
       "..                                     ...  \n",
       "995          Strategy, Entertainment, Card  \n",
       "996          Card, Strategy, Entertainment  \n",
       "997            Utilities, Action, Strategy  \n",
       "998  Entertainment, Role Playing, Strategy  \n",
       "999                   Strategy, Simulation  \n",
       "\n",
       "[1000 rows x 7 columns]"
      ]
     },
     "execution_count": 3,
     "metadata": {},
     "output_type": "execute_result"
    }
   ],
   "source": [
    "for i in range(data.shape[0]):\n",
    "    t = data.iloc[i, 3]\n",
    "    q = ['.', ',', ';', '-', '=', '+', '*', '\"', \"'\", '\\\\', '!', '>', '<', '@', ':', '_']\n",
    "    st=''\n",
    "    for j in range(0, len(t)):\n",
    "        if not (t[j] in q or t[j].isdigit()):\n",
    "            st = st + t[j]\n",
    "    data.iloc[i,3] = st.strip('[').strip(']')\n",
    "data"
   ]
  },
  {
   "cell_type": "markdown",
   "id": "e580ca1e",
   "metadata": {},
   "source": [
    "Сохраним датасет в формате csv"
   ]
  },
  {
   "cell_type": "code",
   "execution_count": null,
   "id": "37c57987",
   "metadata": {},
   "outputs": [],
   "source": [
    "data.to_csv('games_dataset.csv')"
   ]
  },
  {
   "cell_type": "markdown",
   "id": "e755f37a",
   "metadata": {},
   "source": [
    "### Конструкция архитектуры нейросети"
   ]
  },
  {
   "cell_type": "markdown",
   "id": "cd7aa152",
   "metadata": {},
   "source": [
    "Напишем класс нейросети, который будет использоваться для анализа игровых идей. Реализуем загрузку и предобработку данных из датасета с помощью метода load. Предобработка будет состоять из токенизации описаний, удаления стоп-слов, стемминга. Также по-простому сделаем мешок слов: создадим словарь и получим векторы описаний и жанров, используя CountVectorizer. "
   ]
  },
  {
   "cell_type": "code",
   "execution_count": 4,
   "id": "8067800b",
   "metadata": {},
   "outputs": [
    {
     "name": "stderr",
     "output_type": "stream",
     "text": [
      "[nltk_data] Downloading package punkt to\n",
      "[nltk_data]     C:\\Users\\79061\\AppData\\Roaming\\nltk_data...\n",
      "[nltk_data]   Package punkt is already up-to-date!\n",
      "[nltk_data] Downloading package stopwords to\n",
      "[nltk_data]     C:\\Users\\79061\\AppData\\Roaming\\nltk_data...\n",
      "[nltk_data]   Package stopwords is already up-to-date!\n",
      "[nltk_data] Downloading package wordnet to\n",
      "[nltk_data]     C:\\Users\\79061\\AppData\\Roaming\\nltk_data...\n",
      "[nltk_data]   Package wordnet is already up-to-date!\n",
      "[nltk_data] Downloading package omw-1.4 to\n",
      "[nltk_data]     C:\\Users\\79061\\AppData\\Roaming\\nltk_data...\n",
      "[nltk_data]   Package omw-1.4 is already up-to-date!\n"
     ]
    }
   ],
   "source": [
    "import nltk\n",
    "nltk.download('punkt')\n",
    "nltk.download('stopwords')\n",
    "from nltk.corpus import stopwords\n",
    "from nltk.stem import PorterStemmer\n",
    "from nltk.stem import WordNetLemmatizer\n",
    "nltk.download('wordnet')\n",
    "nltk.download('omw-1.4')\n",
    "from sklearn.feature_extraction.text import CountVectorizer"
   ]
  },
  {
   "cell_type": "code",
   "execution_count": 5,
   "id": "edb682d9",
   "metadata": {},
   "outputs": [],
   "source": [
    "class GameIdeaAnalyzer():\n",
    "    def load(self, data):\n",
    "        self.data = data\n",
    "        for i in range(data.shape[0]):\n",
    "            self.data.iloc[i, 3] = str(nltk.word_tokenize(self.data.iloc[i, 3]))\n",
    "        lemmatizer = WordNetLemmatizer()\n",
    "        stop_words = set(stopwords.words('english'))\n",
    "        stemmer = PorterStemmer()\n",
    "        for i in range(self.data.shape[0]):\n",
    "            tokens = self.data.iloc[i, 3].strip('[').strip(']').split(sep=\"', '\")\n",
    "            tokens = [word for word in tokens if word not in stop_words]\n",
    "            tokens = [stemmer.stem(word) for word in tokens]\n",
    "            tokens = [lemmatizer.lemmatize(word) for word in tokens]\n",
    "            self.data.iloc[i,3] = str(tokens).strip('[').strip(']').strip('\"')\n",
    "            \n",
    "        vectorizer = CountVectorizer()\n",
    "        X = vectorizer.fit_transform(self.data['Description'])\n",
    "        d = pd.DataFrame(data=X.toarray(), columns=vectorizer.get_feature_names_out())\n",
    "        self.data = pd.concat([self.data, d], axis=1)\n",
    "        \n",
    "        X = vectorizer.fit_transform(self.data['Genres'])\n",
    "        genre = pd.DataFrame(data=X.toarray(), columns=vectorizer.get_feature_names_out())\n",
    "        self.data = pd.concat([self.data, genre], axis=1)\n",
    "        self.data = self.data.drop(columns=['Genres', 'Description'], axis=1)\n",
    "        self.data = self.data.drop(columns=['Name', 'Size', 'Price', 'Age Rating'], axis=1)\n",
    "        display(self.data)"
   ]
  },
  {
   "cell_type": "code",
   "execution_count": 121,
   "id": "1bdbf71b",
   "metadata": {},
   "outputs": [],
   "source": [
    "GIA = GameIdeaAnalyzer()\n",
    "GIA.load(data)"
   ]
  },
  {
   "cell_type": "markdown",
   "id": "1158a1f5",
   "metadata": {},
   "source": [
    "Реализуем обучение нейронной сети для анализа игровых идей - fit и предсказание рейтинга игры на основе входных данных - predict. Для предсказания используем регрессию."
   ]
  },
  {
   "cell_type": "code",
   "execution_count": 5,
   "id": "10e903d1",
   "metadata": {},
   "outputs": [],
   "source": [
    "from torch import nn, optim\n",
    "import torch\n",
    "from sklearn.metrics import mean_squared_error\n",
    "\n",
    "class LinearRegression(nn.Module):\n",
    "    def __init__(self, inputSize, outputSize):\n",
    "        super(LinearRegression, self).__init__()\n",
    "        self.linear = nn.Linear(inputSize, outputSize)\n",
    "\n",
    "    def forward(self, X):\n",
    "        predictions = self.linear(X)\n",
    "        return predictions"
   ]
  },
  {
   "cell_type": "code",
   "execution_count": 13,
   "id": "aa604849",
   "metadata": {},
   "outputs": [],
   "source": [
    "class GameIdeaAnalyzer():\n",
    "    def load(self, data):\n",
    "        self.data = data\n",
    "        for i in range(data.shape[0]):\n",
    "            self.data.iloc[i, 3] = str(nltk.word_tokenize(self.data.iloc[i, 3]))\n",
    "        lemmatizer = WordNetLemmatizer()\n",
    "        stop_words = set(stopwords.words('english'))\n",
    "        stemmer = PorterStemmer()\n",
    "        for i in range(self.data.shape[0]):\n",
    "            tokens = self.data.iloc[i, 3].strip('[').strip(']').split(sep=\"', '\")\n",
    "            tokens = [word for word in tokens if word not in stop_words]\n",
    "            tokens = [stemmer.stem(word) for word in tokens]\n",
    "            tokens = [lemmatizer.lemmatize(word) for word in tokens]\n",
    "            self.data.iloc[i,3] = str(tokens).strip('[').strip(']').strip('\"')\n",
    "        vectorizer = CountVectorizer()\n",
    "        X = vectorizer.fit_transform(self.data['Description'])\n",
    "        d = pd.DataFrame(data=X.toarray(), columns=vectorizer.get_feature_names_out())\n",
    "        self.data = pd.concat([self.data, d], axis=1)\n",
    "        \n",
    "        X = vectorizer.fit_transform(self.data['Genres'])\n",
    "        genre = pd.DataFrame(data=X.toarray(), columns=vectorizer.get_feature_names_out())\n",
    "        self.data = pd.concat([self.data, genre], axis=1)\n",
    "        self.data = self.data.drop(columns=['Genres', 'Description'], axis=1)\n",
    "        self.data = self.data.drop(columns=['Name', 'Size', 'Price', 'Age Rating'], axis=1)\n",
    "        \n",
    "    def fit(self, X, y):\n",
    "        learning_rate = 0.01\n",
    "        epochs = 800\n",
    "        y_tensor = torch.from_numpy(y).float()\n",
    "        X_tensor = torch.from_numpy(X).float()\n",
    "        \n",
    "        self.model = LinearRegression(self.data.shape[1]-1, 1)\n",
    "        criterion = nn.MSELoss() \n",
    "        optimizer = optim.SGD(self.model.parameters(), lr=learning_rate)\n",
    "\n",
    "        for epoch in range(epochs):\n",
    "            optimizer.zero_grad()\n",
    "            predictions = self.model(X_tensor)\n",
    "            loss = criterion(predictions, y_tensor)\n",
    "            loss.backward()  # get gradients\n",
    "            optimizer.step() # update parameters\n",
    "            if (epoch + 1) % (epochs / 10) == 0:\n",
    "                print('epoch {}, loss {}'.format(epoch, loss.item()))\n",
    "    \n",
    "    def predict(self, X):\n",
    "        X = torch.from_numpy(X).float()\n",
    "        self.prediction =self.model(X)\n",
    "        return self.prediction\n",
    "    \n",
    "    def mse(self, y):\n",
    "        return mean_squared_error(y, self.prediction.detach().numpy()) #MSE\n",
    "    \n",
    "    def save_model(self, filepath): # для сохранения модели\n",
    "        torch.save(self.model.state_dict(), filepath)\n",
    "\n",
    "    def load_model(self, filepath): # для загрузки модели\n",
    "        self.model.load_state_dict(torch.load(filepath))\n",
    "        self.model.eval()\n",
    "        "
   ]
  },
  {
   "cell_type": "markdown",
   "id": "e08d5816",
   "metadata": {},
   "source": [
    "### Обучение и аналитика"
   ]
  },
  {
   "cell_type": "code",
   "execution_count": 14,
   "id": "8c6416e7",
   "metadata": {},
   "outputs": [],
   "source": [
    "GIA = GameIdeaAnalyzer()\n",
    "GIA.load(data)"
   ]
  },
  {
   "cell_type": "code",
   "execution_count": 15,
   "id": "61681d42",
   "metadata": {},
   "outputs": [],
   "source": [
    "# разделим собранный датасет на обучающую и тестовую выборки\n",
    "from sklearn.model_selection import train_test_split\n",
    "X = np.array(GIA.data.drop(columns=['Average User Rating'], axis=1))\n",
    "y = np.array(GIA.data['Average User Rating'])\n",
    "np.random.seed(52)\n",
    "X_train, X_test, y_train, y_test = train_test_split(X, y, test_size = 0.2)"
   ]
  },
  {
   "cell_type": "code",
   "execution_count": 16,
   "id": "7145b9b9",
   "metadata": {},
   "outputs": [
    {
     "name": "stderr",
     "output_type": "stream",
     "text": [
      "C:\\Users\\79061\\anaconda3\\lib\\site-packages\\torch\\nn\\modules\\loss.py:530: UserWarning: Using a target size (torch.Size([800])) that is different to the input size (torch.Size([800, 1])). This will likely lead to incorrect results due to broadcasting. Please ensure they have the same size.\n",
      "  return F.mse_loss(input, target, reduction=self.reduction)\n"
     ]
    },
    {
     "name": "stdout",
     "output_type": "stream",
     "text": [
      "epoch 79, loss 0.8085914850234985\n",
      "epoch 159, loss 0.47994717955589294\n",
      "epoch 239, loss 0.39973118901252747\n",
      "epoch 319, loss 0.3691639304161072\n",
      "epoch 399, loss 0.3542478382587433\n",
      "epoch 479, loss 0.3457704484462738\n",
      "epoch 559, loss 0.34044232964515686\n",
      "epoch 639, loss 0.33685067296028137\n",
      "epoch 719, loss 0.33430325984954834\n",
      "epoch 799, loss 0.3324261009693146\n"
     ]
    }
   ],
   "source": [
    "GIA.fit(X_train, y_train) # обучение"
   ]
  },
  {
   "cell_type": "code",
   "execution_count": 19,
   "id": "bce811d0",
   "metadata": {},
   "outputs": [
    {
     "name": "stdout",
     "output_type": "stream",
     "text": [
      "0.4505127548660519\n"
     ]
    }
   ],
   "source": [
    "print(GIA.mse(y_test))"
   ]
  },
  {
   "cell_type": "markdown",
   "id": "ffe7fdde",
   "metadata": {},
   "source": [
    "Получили MSE на тестовой выборке равной 0.45."
   ]
  },
  {
   "cell_type": "markdown",
   "id": "88fad0a2",
   "metadata": {},
   "source": [
    "### Задание со звездочкой"
   ]
  },
  {
   "cell_type": "markdown",
   "id": "d6189fcc",
   "metadata": {},
   "source": [
    "Реализовал автоматический сбор данных отзывов и оценок игроков различных игр с сайта https://stopgame.ru/games/reviews с помощью веб-скрапинга."
   ]
  },
  {
   "cell_type": "code",
   "execution_count": 21,
   "id": "06f5536a",
   "metadata": {},
   "outputs": [],
   "source": [
    "import requests\n",
    "from bs4 import BeautifulSoup"
   ]
  },
  {
   "cell_type": "code",
   "execution_count": 29,
   "id": "cc43bb48",
   "metadata": {},
   "outputs": [],
   "source": [
    "name = []   # название игры\n",
    "review = [] # отзыв об игре\n",
    "marks = []  # оценка пользователя \n",
    "\n",
    "url = 'https://stopgame.ru/games/reviews' \n",
    "# на сайте 516 страниц с отзывами, в дальнейшем можно собрать их все, переходя \n",
    "# по страницам с помощью url+'?page=<номер страницы>' и убавляя data-key на 1 \n",
    "r = requests.get(url)\n",
    "soup = BeautifulSoup(r.text, 'lxml')\n",
    "for i in range(51, 32, -1):\n",
    "    st ='120'+str(i)\n",
    "    w = soup.find('div', class_='_reviews-grid_pifb1_978').find('div', {\"data-key\": st})\n",
    "    name.append(w.find('div', class_='_game-info__title_l03f1_120').text)\n",
    "    \n",
    "    s = str(w.find('section', class_='_content_l03f1_127 _text_l03f1_174').find_all('p', class_='_text_12po9_111 _text-width_12po9_111'))\n",
    "    ss=''\n",
    "    i = 0\n",
    "    while i < len(s):\n",
    "        if s[i]=='<':\n",
    "            while s[i]!='>' and i < len(s):\n",
    "                i+=1\n",
    "        else:\n",
    "            ss+=s[i]\n",
    "        i+=1\n",
    "\n",
    "    review.append(ss)\n",
    "    \n",
    "    s = str(w.find('div', class_='_stars--filled_l03f1_1'))\n",
    "    s.count('0 0 576 512')\n",
    "    s.count('_half-star_')\n",
    "    mark = s.count('0 0 576 512') + s.count('_half-star_')/2\n",
    "    marks.append(mark)"
   ]
  },
  {
   "cell_type": "code",
   "execution_count": 30,
   "id": "98f3d5ab",
   "metadata": {},
   "outputs": [
    {
     "data": {
      "text/html": [
       "<div>\n",
       "<style scoped>\n",
       "    .dataframe tbody tr th:only-of-type {\n",
       "        vertical-align: middle;\n",
       "    }\n",
       "\n",
       "    .dataframe tbody tr th {\n",
       "        vertical-align: top;\n",
       "    }\n",
       "\n",
       "    .dataframe thead th {\n",
       "        text-align: right;\n",
       "    }\n",
       "</style>\n",
       "<table border=\"1\" class=\"dataframe\">\n",
       "  <thead>\n",
       "    <tr style=\"text-align: right;\">\n",
       "      <th></th>\n",
       "      <th>Name</th>\n",
       "      <th>Review</th>\n",
       "      <th>Mark</th>\n",
       "    </tr>\n",
       "  </thead>\n",
       "  <tbody>\n",
       "    <tr>\n",
       "      <th>0</th>\n",
       "      <td>Darkwood</td>\n",
       "      <td>[Интересно,\\nчто ощущают разработчики этой игр...</td>\n",
       "      <td>2.5</td>\n",
       "    </tr>\n",
       "    <tr>\n",
       "      <th>1</th>\n",
       "      <td>Koumajou Remilia: Scarlet Symphony</td>\n",
       "      <td>[Koumajou Remilia: Scarlet Symphony - это реме...</td>\n",
       "      <td>4.5</td>\n",
       "    </tr>\n",
       "    <tr>\n",
       "      <th>2</th>\n",
       "      <td>The Witcher 3: Wild Hunt - Blood and Wine</td>\n",
       "      <td>[Я обожаю \"Кровь и Вино\". Наслаждаюсь прогулка...</td>\n",
       "      <td>4.5</td>\n",
       "    </tr>\n",
       "    <tr>\n",
       "      <th>3</th>\n",
       "      <td>Middle-earth: Shadow of Mordor</td>\n",
       "      <td>[Жил был гг да помер со своей семьей, но благо...</td>\n",
       "      <td>4.0</td>\n",
       "    </tr>\n",
       "    <tr>\n",
       "      <th>4</th>\n",
       "      <td>Chuchel</td>\n",
       "      <td>[Какой же очаровательный этот комочек волос! С...</td>\n",
       "      <td>4.5</td>\n",
       "    </tr>\n",
       "    <tr>\n",
       "      <th>5</th>\n",
       "      <td>Killzone</td>\n",
       "      <td>[Платформа: PS3, На фоне оглушительного успеха...</td>\n",
       "      <td>3.5</td>\n",
       "    </tr>\n",
       "    <tr>\n",
       "      <th>6</th>\n",
       "      <td>Hot Wheels Unleashed</td>\n",
       "      <td>[Играя в нее убедитесь, что ваша кредитка хоро...</td>\n",
       "      <td>0.0</td>\n",
       "    </tr>\n",
       "    <tr>\n",
       "      <th>7</th>\n",
       "      <td>Dark Souls II: Crown of the Sunken King</td>\n",
       "      <td>[О боссах.Варг, Церах и Разорительница Гробниц...</td>\n",
       "      <td>2.0</td>\n",
       "    </tr>\n",
       "    <tr>\n",
       "      <th>8</th>\n",
       "      <td>Mafia III</td>\n",
       "      <td>[Не смотря на хреновую оптимизацию, мыло, конч...</td>\n",
       "      <td>3.0</td>\n",
       "    </tr>\n",
       "    <tr>\n",
       "      <th>9</th>\n",
       "      <td>Barony</td>\n",
       "      <td>[Слишком душный рогалик БЕЗ ПРОГРЕССА И ПРОКАЧ...</td>\n",
       "      <td>2.5</td>\n",
       "    </tr>\n",
       "    <tr>\n",
       "      <th>10</th>\n",
       "      <td>Alien: Isolation</td>\n",
       "      <td>[Тот самый случай когда мы имеем во всех аспек...</td>\n",
       "      <td>4.5</td>\n",
       "    </tr>\n",
       "    <tr>\n",
       "      <th>11</th>\n",
       "      <td>Death and Taxes</td>\n",
       "      <td>[Сгорела пердуха после того как наиграл 2,5 ча...</td>\n",
       "      <td>3.0</td>\n",
       "    </tr>\n",
       "    <tr>\n",
       "      <th>12</th>\n",
       "      <td>Counter-Strike 2</td>\n",
       "      <td>[Это феноменально отвратительно.,  Одна из тит...</td>\n",
       "      <td>2.0</td>\n",
       "    </tr>\n",
       "    <tr>\n",
       "      <th>13</th>\n",
       "      <td>Deus Ex: Human Revolution</td>\n",
       "      <td>[Первый опыт в иммерсив симах. Должен сказать:...</td>\n",
       "      <td>4.5</td>\n",
       "    </tr>\n",
       "    <tr>\n",
       "      <th>14</th>\n",
       "      <td>Potionomics</td>\n",
       "      <td>[ККИ, которая смогла меня удержать дольше боль...</td>\n",
       "      <td>3.0</td>\n",
       "    </tr>\n",
       "    <tr>\n",
       "      <th>15</th>\n",
       "      <td>Mirror's Edge</td>\n",
       "      <td>[Я согласен, что механика паркура реализована ...</td>\n",
       "      <td>2.0</td>\n",
       "    </tr>\n",
       "    <tr>\n",
       "      <th>16</th>\n",
       "      <td>Anthem</td>\n",
       "      <td>[2019 годВ силу неосведомлённости и отсутствия...</td>\n",
       "      <td>2.0</td>\n",
       "    </tr>\n",
       "    <tr>\n",
       "      <th>17</th>\n",
       "      <td>As Dusk Falls</td>\n",
       "      <td>[Оттолкнуть может только непривычный визуальны...</td>\n",
       "      <td>4.0</td>\n",
       "    </tr>\n",
       "    <tr>\n",
       "      <th>18</th>\n",
       "      <td>Persona 3 Reload</td>\n",
       "      <td>[просто сидишь днями и наблюдаешь за школьника...</td>\n",
       "      <td>5.0</td>\n",
       "    </tr>\n",
       "  </tbody>\n",
       "</table>\n",
       "</div>"
      ],
      "text/plain": [
       "                                         Name  \\\n",
       "0                                    Darkwood   \n",
       "1          Koumajou Remilia: Scarlet Symphony   \n",
       "2   The Witcher 3: Wild Hunt - Blood and Wine   \n",
       "3              Middle-earth: Shadow of Mordor   \n",
       "4                                     Chuchel   \n",
       "5                                    Killzone   \n",
       "6                        Hot Wheels Unleashed   \n",
       "7     Dark Souls II: Crown of the Sunken King   \n",
       "8                                   Mafia III   \n",
       "9                                      Barony   \n",
       "10                           Alien: Isolation   \n",
       "11                            Death and Taxes   \n",
       "12                           Counter-Strike 2   \n",
       "13                  Deus Ex: Human Revolution   \n",
       "14                                Potionomics   \n",
       "15                              Mirror's Edge   \n",
       "16                                     Anthem   \n",
       "17                              As Dusk Falls   \n",
       "18                           Persona 3 Reload   \n",
       "\n",
       "                                               Review  Mark  \n",
       "0   [Интересно,\\nчто ощущают разработчики этой игр...   2.5  \n",
       "1   [Koumajou Remilia: Scarlet Symphony - это реме...   4.5  \n",
       "2   [Я обожаю \"Кровь и Вино\". Наслаждаюсь прогулка...   4.5  \n",
       "3   [Жил был гг да помер со своей семьей, но благо...   4.0  \n",
       "4   [Какой же очаровательный этот комочек волос! С...   4.5  \n",
       "5   [Платформа: PS3, На фоне оглушительного успеха...   3.5  \n",
       "6   [Играя в нее убедитесь, что ваша кредитка хоро...   0.0  \n",
       "7   [О боссах.Варг, Церах и Разорительница Гробниц...   2.0  \n",
       "8   [Не смотря на хреновую оптимизацию, мыло, конч...   3.0  \n",
       "9   [Слишком душный рогалик БЕЗ ПРОГРЕССА И ПРОКАЧ...   2.5  \n",
       "10  [Тот самый случай когда мы имеем во всех аспек...   4.5  \n",
       "11  [Сгорела пердуха после того как наиграл 2,5 ча...   3.0  \n",
       "12  [Это феноменально отвратительно.,  Одна из тит...   2.0  \n",
       "13  [Первый опыт в иммерсив симах. Должен сказать:...   4.5  \n",
       "14  [ККИ, которая смогла меня удержать дольше боль...   3.0  \n",
       "15  [Я согласен, что механика паркура реализована ...   2.0  \n",
       "16  [2019 годВ силу неосведомлённости и отсутствия...   2.0  \n",
       "17  [Оттолкнуть может только непривычный визуальны...   4.0  \n",
       "18  [просто сидишь днями и наблюдаешь за школьника...   5.0  "
      ]
     },
     "execution_count": 30,
     "metadata": {},
     "output_type": "execute_result"
    }
   ],
   "source": [
    "game_reviews = pd.DataFrame(list(zip(name, review, marks)), columns=['Name', 'Review', 'Mark'])\n",
    "game_reviews"
   ]
  },
  {
   "cell_type": "code",
   "execution_count": null,
   "id": "346108fc",
   "metadata": {},
   "outputs": [],
   "source": [
    "game_reviews.to_csv('games-review.csv') #сохранение получившегося датасета"
   ]
  },
  {
   "cell_type": "code",
   "execution_count": null,
   "id": "02677c55",
   "metadata": {},
   "outputs": [],
   "source": []
  }
 ],
 "metadata": {
  "kernelspec": {
   "display_name": "Python 3 (ipykernel)",
   "language": "python",
   "name": "python3"
  },
  "language_info": {
   "codemirror_mode": {
    "name": "ipython",
    "version": 3
   },
   "file_extension": ".py",
   "mimetype": "text/x-python",
   "name": "python",
   "nbconvert_exporter": "python",
   "pygments_lexer": "ipython3",
   "version": "3.9.12"
  }
 },
 "nbformat": 4,
 "nbformat_minor": 5
}
